{
 "cells": [
  {
   "cell_type": "markdown",
   "metadata": {},
   "source": [
    "# Exercises clamped beam"
   ]
  },
  {
   "cell_type": "markdown",
   "metadata": {},
   "source": [
    "Given is the following structure:\n",
    "\n",
    "```{figure} ./diagrams_data/simply_supported.svg\n",
    ":align: center\n",
    "```"
   ]
  },
  {
   "cell_type": "markdown",
   "metadata": {},
   "source": [
    "```{exercise}\n",
    ":label: exercise4\n",
    "\n",
    "Draw the shape of the moment diagram without making any calculations for a force at:\n",
    "- $x= 2.5$\n",
    "- $x = 7.5$\n",
    "\n",
    "```"
   ]
  },
  {
   "cell_type": "code",
   "execution_count": null,
   "metadata": {
    "tags": [
     "thebe-remove-input-init",
     "automatic-execute-page"
    ]
   },
   "outputs": [],
   "source": [
    "import micropip\n",
    "await micropip.install(\"ipympl\")"
   ]
  },
  {
   "cell_type": "code",
   "execution_count": 1,
   "metadata": {
    "tags": [
     "thebe-remove-input-init"
    ]
   },
   "outputs": [],
   "source": [
    "import numpy as np\n",
    "import sympy as sym\n",
    "import matplotlib.pylab as plt\n",
    "from ipywidgets import widgets, interact\n",
    "\n",
    "%matplotlib widget\n",
    "%config InlineBackend.figure_formats = ['svg']"
   ]
  },
  {
   "cell_type": "markdown",
   "metadata": {},
   "source": [
    "```{solution-start} exercise4\n",
    "```\n",
    "\n",
    "Click {fa}`rocket` --> {guilabel}`Live Code` on the top right corner of this screen to show the interactive widget which can be used to find the solution.\n",
    "\n",
    "If the plot doesn't respond to the slider, click the figure once and try again."
   ]
  },
  {
   "cell_type": "code",
   "execution_count": 45,
   "metadata": {
    "tags": [
     "thebe-remove-input-init"
    ]
   },
   "outputs": [
    {
     "data": {
      "application/vnd.jupyter.widget-view+json": {
       "model_id": "ce94b3803a304d0ea785d4a1635a5cdd",
       "version_major": 2,
       "version_minor": 0
      },
      "text/plain": [
       "interactive(children=(FloatSlider(value=2.0, description='Location force x_F = ... (m)', layout=Layout(width='…"
      ]
     },
     "metadata": {},
     "output_type": "display_data"
    },
    {
     "data": {
      "application/vnd.jupyter.widget-view+json": {
       "model_id": "bfa9f27bc23d4eeeba5922dcbe152025",
       "version_major": 2,
       "version_minor": 0
      },
      "image/png": "[encoded data removed]",
      "text/html": [
       "\n",
       "            <div style=\"display: inline-block;\">\n",
       "                <div class=\"jupyter-widgets widget-label\" style=\"text-align: center;\">\n",
       "                    Figure\n",
       "                </div>\n",
       "                <img src='data:image/png;base64,iVBORw0KGgoAAAANSUhEUgAAArwAAAJYCAYAAACAbzXXAAAAOXRFWHRTb2Z0d2FyZQBNYXRwbG90bGliIHZlcnNpb24zLjguMCwgaHR0cHM6Ly9tYXRwbG90bGliLm9yZy81sbWrAAAACXBIWXMAAA9hAAAPYQGoP6dpAAAdcklEQVR4nO3de5RsZ13n4e9PIgQhCRLCbWTIjKMzXAYcBsR4WUBUZLwTR5TIQLjoAlRAhYCgJoCiCI7GURegOAEUlZsCARQSE2FxUQJyGTBBMSEEQggBkiAkIeSdP/ZuqFTq9Ok+6T59zq+fZ61edXrXrv2+1ZWV9eldb+2uMUYAAKCrr9rpCQAAwHYSvAAAtCZ4AQBoTfACANCa4AUAoDXBCwBAa4IXAIDWBC8AAK0JXgAAWhO8AAC0JngBAGhN8AIA0JrgBQCgNcELAEBrghcAgNYELwAArQleAABaE7wAALQmeAEAaE3wAgDQmuAFAKA1wQsAQGuCFwCA1gQvAACtCV4AAFoTvAAAtCZ4AQBoTfACANCa4AUAoDXBCwBAa4IXAIDWBC8AAK0JXgAAWhO8AAC0JngBAGhN8AIA0JrgBQCgNcELAEBrghcAgNYELwAArQleAABaE7wAALQmeAEAaE3wAgDQmuAFAKA1wQsAQGuCFwCA1gQvAACtCV4AAFoTvAAAtCZ4AQBoTfACW6KqTqiqMX/dd8X9VVX/Mt9/1n6f4DapqqdW1Q/fwGMcPf9cTljYdnJVjU0e52vmx913k4+73lhVdX5VnbaZ42xgnOOr6gl7uG9U1clbOR7AGsELbLUrkjxyxfb7JPn6+f5Onprkh7fhuH+U5JhNPuZrkpyU5L77Yax9cXySJ+zhvmPmeQBsOcELbLW/SPIjVXX40vZHJnl7kgv2/5QOPmOMC8cY79jOMarqa/bXWHszxnjHGOPCnZwD0JfgBbban823D17bUFVHJPmRJH+86gFVdcuq+oOq+lhVXV1V/1pVv1ZVN1nab1TV71XVw6vq3Kr6QlWdXVXfMi+ZeFJVnVdVn6uqv62q/7RirO+qqjOq6vKq+nxVvbWqvnNpn5Pnse5SVX9WVZdV1cVV9cfzc/nyfJLcLMnDFpZznLXeD6eqbl9VL6uqK+bj/kWS267Yb9Uyg2Or6qyqunR+7hdU1SvnpQxHJ7lk3vWkhfmcuvSc7lFVr6iqzyT58J7GWhjzgVX1vqq6cn5dHrd0/9pSlqOXtt93cXnL/HP5viR3XJjbWNj/eksaququVfXqqvrMPP57quphexjnwfN/Mx+fX9vTq+o/r3pOwO4jeIGtdnmSVyR5xMK2Bye5NtPZ3+uoqkOTnJnkoUn+d6Yo+pMkJyZ51Yrjf3+SRyV5ynzcw5K8LslvJfm2JD+T5KeS3DnJK6uqFsZ6SJI3znN8WJIHJfl0kr9Zjt7ZK5N8KFOs/0amt+R/e+H+Y5J8Icnr538fk+Sxq34o8/g3TXJ6kvsn+cUkP5rkE6t+Lisee/T8PK/O9LN9wPwz+LckN05y0bwtSV64MJ9nLh3qVUn+ZR770XsZ9puS/E6m5/zAJG9LckpVPXFv813hsUnemun5HrPwtdIcq29Lcpckj0tyXJIPJjm1qk5c8ZBnJbljpv82firJNyR5bVXdaB/mCjRzyE5PAGjpj5OcWVV3GWN8IFOgvXyMccVCf655WJK7JXnQGOPl87Y3VdXnkjy7qr57jPGmhf1vkuT+Y4x/S758lvWvktwvyT3GGGPeflSmWLtrkvfPb9+fkuS0McYD1w5WVa9P8u5MwXTvpbm9cIzxnPnfp89njB9RVY8ck3dU1bVJLtngkoCHJblTkh8aY7xm3vbGOYR/ci+P/e9JDk3ypDHGexe2v3Thubxr/ud6SxReNMY4aQNzTZLbJ/lvC+O9oapuneSXq+oPxhif3+BxMsb4YFV9NslVG/xZnZwp5O83xvjovO31VXWLTGewnz/GuGxh/w+OMR6y9k1VfSnJy5LcK8mOLtcAdp4zvMB2+LtMb5c/oqr+a6boWLmcIcmxmc5SvmJp+6nz7fKZ1zPXYnf2T/PtG9Zid2n7Hefbb01yyyQvqqpD1r4y/X/wr5Pcq6putjTWa5a+f1+m6Lz1Hp7L3twvyRULsbvmpat2XvKeTGd3X1BVD6uq/7iPc3jlJvb9wFJcJ9NcD09yj30cf6OOTXLGQuyuOTXTh/OWzw6veq2Sr7z+wC7mDC+w5cYYo6r+b6a3og9N8qExxlv2sPuRST6xFKsZY3yyqq6Z71/06aXvr97L9kPn29vMt8thveiWmeJ7zaVL91813950nWOs58gkF6/Y/om9PXCM8eGq+q5MSz1+P8nNqupfk/zuGOOUTczhok3su2pea9uWX5etdmRWz/Xjexh/q18roBHBC2yXU5M8I9M60aets9+lSe5dVbUYvfNb54ck+dQWzWftOD+bPb/FvSpGt9KlSb55xfbrfWhtlfmXhrfM61Lvmem5/E5VXTzG+PMNzmEz1/ZdNa+1bWuBeeV8e5Ol/W61iXFWuTTJ7VZsv/18u1X/XQC7gCUNwLYYY3wsyXOSvDbJi9bZ9YwkN8/1r2X70IX7t8Jbk3w2yZ3HGGfv4evqvRxjlauy8bOIZyY5rKp+cGn78ZsZcIzxpTHG3yf56XnT2vKCrT6reZequvvStuMzXUv53fP358+3d1vab/k5Jpv7WZ2R5Niquv3S9ocm+XysywU2wRleYNuMMZ6ygd1enCncXjRfieD9Sb490x90eP0Y4/Qtmsvnqupn53FumWlpwyeTHJXk7kmOGmM8Zh8O/f4k962qH8j0FvwVY4xz97Dvi5P8XJIXV9XTkvxzku9N8j17G6SqHp1pXevrMl3L+NB85UoYp8/P8Yqq+kiSH6qqMzIt8/jUGOP8fXheybR84DXz5cIuSvKQJN+d5MkLH1h7Z5Jzkzx3XhP9mUxXdPj2Fcd7f5LjquoxSd6V5Noxxtl7GPvpma7IcWZVPWN+Lj+R6SoeJy59YA1gXc7wAjtqjHFlpg9z/WmSJyV5Q5ITkjw306WotnKsP5nHunmS52cKxVMynSHd1zPJj88Urn+eKf6ev874n88UradnuszZK5J8XZIf38A478l0kuLpmX5GL8kU6z84xnjjwn6PzHQG9DXzfE7ezJNZMebPJ/mFJK/OdNm3nx9j/ObaDmOMLyX5gSTnJHlepqi/KtPl4Zadkuk5PyvTGdp37mng+ZeGb80U07+f6Uocd03y8IUrZwBsSC19TgQAAFpxhhcAgNYELwAArQleAABaE7wAALQmeAEAaE3wAgDQmuA9iNXk8KqqnZ4LAMCBSvAe3A5Lctl8CwDACoIXAIDWBC8AAK0JXgAAWhO8AAC0JngBAGhN8AIA0JrgBQCgNcELAEBrghcAgNYELwAArQleAABaE7wAALQmeAEAaE3wAgDQmuAFAKA1wQsAQGuCFwCA1gQvAACtCV4AAFoTvAAAtCZ4AQBoTfACANCa4AUAoDXBCwBAa4IXAIDWBC8AAK0JXgAAWhO8AAC0JngBAGhN8AIA0JrgBQCgNcELAEBrghcAgNYELwAArQleAABaE7wAALQmeAEAaE3wAgDQmuAFAKA1wQsAQGuCFwCA1gQvAACtCV4AAFoTvAAAtCZ4AQBoTfACANCa4AUAoDXBCwBAa4IXAIDWBC8AAK0JXgAAWhO8AAC0JngBAGhN8AIA0JrgBQCgNcELAEBrghcAgNYELwAArQleAABaE7wAALQmeAEAaE3wAgDQmuAFAKA1wQsAQGuCFwCA1gQvAACtCV4AAFoTvAAAtCZ4AQBoTfACANCa4AUAoDXBCwBAa4IXAIDWBC8AAK0JXgAAWhO8AAC0JngBAGhN8AIA0JrgBQCgNcELAEBrghcAgNYELwAArQleAABaE7wAALQmeAEAaE3wAgDQmuAFAKA1wQsAQGuCFwCA1gQvAACtCV4AAFoTvAAAtCZ4AQBoTfACANCa4AUAoDXBCwBAa4IXAIDWBC8AAK0JXgAAWhO8AAC0JngBAGhN8AIA0JrgPajdYqcnAABwwBO8B7VznzfdXviUKvULALCK4D2o3fg7ptvDfjHJ+VU5SfgCAFyX4G3h2ouTHJHk5AhfAIDrELwtnPvgJA9K8oEIXwCA6xC8LVx77Rh5eZK7RfgCAFyH4G1kjAhfAIAlgrch4QsA8BWCtzHhCwAgeHcF4QsA7GaCdxcRvgDAbiR4dyHhCwDsJoJ3FxO+AMBuIHgRvgBAa4KXLxO+AEBHgpfrEb4AQCeClz0SvgBAB4KXvRK+AMDBTPCyYcIXADgYCV42TfgCAAcTwcs+E74AwMFA8HKDCV8A4EAmeNkywhcAOBAJXrac8AUADiSCl20jfAGAA4HgZdsJXwBgJwle9hvhCwDsBMHLfid8AYD9SfCyY4QvALA/CN4WxtjpGdwQwhcA2E6ClwOG8AUAtoPg5YAjfAGArSR4OWAJXwBgKwheDnjCFwC4IQQvBw3hCwDsC8HLQUf4AgCbIXg5aAlfAGAjBC8HPeELAKxH8NKG8AUAVhG8tCN8AYBFgpe2hC8AkAhedgHhCwC7m+Bl1xC+ALA7CV52HeELALuL4GXXEr4AsDsIXnY94QsAvQlemAlfAOhJ8MIS4QsAvQhe2APhCwA9CF7YC+ELAAe3GmPs9BzaqqpKctj2jXD2Jck9b5zc/VPJe6/evnG4rkryP2+anHhY8o2HTNsuG14DAPbu+Rcmp91jmwe5Ygi86xC826iqDk9y2U7PAwDYVY4YY1y+05M4kAjebbT9Z3iPe0/yqv+QfO3FyWe+tH3jsL5Kcv+bJEdZIgTAXpx9UXLOMds8iDO8SwTvQWzhDLLf5AAA9sAZKQAAWhO8AAC0JngBAGhN8AIA0JrgBQCgNcELAEBrghcAgNYELwAArQleAABaE7wAALQmeAEAaE3wAgDQmuAFAKA1wQsAQGuCFwCA1gQvAACtCV4AAFoTvAAAtCZ4AQBoTfACANCa4AUAoDXBCwBAa4IXAIDWBC8AAK0JXgAAWhO8AAC0JngBAGhN8AIA0JrgBQCgNcELAEBrghcAgNYELwAArQleAABaE7wAALQmeAEAaE3wAgDQmuAFAKA1wQsAQGuCFwCA1gQvAACtCV4AAFoTvAAAtCZ4AQBoTfACANCa4AUAoDXBCwBAa4IXAIDWBC8AAK0JXgAAWhO8AAC0JngBAGhN8AIA0JrgBQCgNcELAEBrNcbY6Tmwj6qqkhyW5IrhhQQAWEnwAgDQmiUNAAC0JngBAGhN8AIA0JrgBQCgNcELAEBrghcAgNYELwAArQleAABaE7wAALQmeAEAaE3wAgDQmuAFAKA1wQsAQGuCFwCA1gQvAACtCV4AAFoTvAAAtCZ4AQBoTfACANCa4AX2u6q6d1X9ZVVdUFVXVdXFVfX2qvqtpf3Or6rTdmqeW6Gqzqqqsxa+P7qqRlWdsMnjHF9VT9jkY643VlWdPG+71WaOtZdx7jwf9+gV951aVedv1VgA+0LwAvtVVX1fkrclOTzJiUnun+TxSd6a5Md2cGr7y0VJjknyuk0+7vgkT9hPY23WnZOclOToFfc9M8kDt3l8gHUdstMTAHadE5Ocl+R7xhjXLGz/86o6cYfmtCFVddMxxhduyDHGGFcleccWTWmlqrpRkkP2x1h7M8b48E6OD5A4wwvsf0cm+dRS7CZJxhjXrnpAVT2gqt5dVV+oqnOq6hEr9rltVT2/qi6sqqur6ryqOqmqDlna76Sq+vuq+nRVXT4f95FVVUv7nV9Vp1XVcVX1j1V1ZaazmCvV5MSq+khVXTkf93+s2G/VMoOjquoFVfXReYnHJVX11qr6rvn+s5J8X5I7zo8dVTWWjndiVf1SVZ2X5Kok99vL8ok7VNWr5p/BZVX1J1V11NJcR1WdvOI5nF9Vp87/PiHJy+e7zlyY3wnz/ddb0lBVh1bVr8+v0dVV9bGq+v2qusWKcU7byOsPsB5neIH97e1JHlVVv5vkT5O8e4zxxXX2v3uS30ryG0kuTvKoJC+sqn8ZY7w5mWI3yT8kuTbJM5J8ONNb+b+U6W32hy8c7+gkz09ywfz9tyT5P0n+3fzYRfdIcqckv5rprPS/rTPPk+avFyZ5RZI7JPnDJDdKcu46j0uSl8xjPS3Jh5LcYv7+yPn+xyZ5QZKvz56XBzxufuwTk1ye5J/3MuZfJnlZkucluUumpQd3rqp77+X1WPa6JE9N8qwkP53k3fP2lWd2518s/irJdyb59SRvSXK3JE9PckxVHTOfmV6z19cfYG8EL7C/PSXJf0nys/PXF6vqnUlem+T3xhifW9r/Vkm+bYxxQZJU1ZszxdLxSdaC5+QkX5vkLmv7JTmjqr6Q5LlV9ZwxxgeTZIzx5fitqq9KclaSSvL4qnrmGGMsjH3rJHceY3xovSc0n5l8cpK/HGM8amH7BzKtTd5b8H5bkj8aY/zhwrZXr/1jjPHBqvpskqvGGHtaonBlpmUiX47VVR8iW/CqMcbaEpI3VtXFmX4BedB8uyFjjEuqai2uP7jO/NbcP8n3JDlxjPGcedubquqjSf4iyUMz/aKwZiOvP8C6LGkA9qsxxqVjjO9Icq9M8fvqJN+Y6Wzf+1dcPeA9CxGbMcaVmc5k3nFhn+9PcmaSj1fVIWtfSd4w33+ftR2r6tiqOr2qLkvypSRfzHRm98hMgbvofXuL3dkxSQ7NUiiOMd6W5CMbePw/JDlhXpLwLVX11Rt4zLLXbPLM7HLUvizJNUnutw9jb8ax8+2pS9tfnukM+ncubd/I6w+wLsEL7IgxxtljjGePMX40ye2T/Ham5QbLH1y7dMXDr0py04Xvb5PkBzLF6+LXB+b7b5UkVfXNSd44b/vJTGdW75Xk1+Zti8dMpqscbMTa0oNPrLhv1bZlP5bkRZnern97kk9X1YvnpRobtdG5rpzXvKb60nzluWyXI5NcM8a4ZGn8Mc9pefyNvP4A67KkAdhxY4wvVtXTk/xckrvuwyE+leR9mdbArvLx+fbHM4Xw989nCpMkVfXDe5raBsdfi7JVgXrbJOev9+AxxqcyXXLsCVX175P8YKY1q7dO8oANzmGjc12c18fWvpnPiB+Z6wbmVUlusuKxNySKL01ySFUdtRi989re2yZ55w04NsBKzvAC+1VV3W4Pd91pvv34Hu5fz2mZQvnD85nj5a+1Y45Mb9t/aWE+N03yv/ZhzEXvyLSG9icWN1bVt2aTb72PMS4YY/xekjdl+uDamq0+q/kTS98/KNNJkLMWtp2f6QNlX1ZVxya5+dJj1z5ktpH5nTHfPmRp+48kudnC/QBbxhleYH/7m6q6MNOH1M7J9Iv3NyX5hSSfS3LKPhzzV5J8d5K3zVd/ODfTmtqjk3xvkkePMS7MdEWBn0/y0qp6QaYzlU/MV4Jtn4wxPlNVz03yS1X1R5nWo94h04fp1l3SUFVHZFp//NJMP48rMi2zeECSVy3s+v4kx1XVY5K8K8m1Y4yzb8C0j6uqazKF9dpVGt6baS3vmpckeWZVPSPJ32X6AxM/k+SypWP9v/n2p6rqikzxf94YY9VyhDcl+Zskz66qwzN9qG/tKg3/OI8JsKUEL7C//WqSH8q0fOF2md4yvyjJ6Ul+fYzxT5s94Bjjoqq6Z5JfTvKkJF+XKRzPS/LXST4z7/e38zVcn5wpuD+W6YoAn8x0ObEb4lcyfejqsZnOGJ+T5NGZgno9Vyb5+/kxRyf56kyXTHt2kt9c2O+UTGH6rCRHZLqyxHWuHbxJx2UK8sdkOvP92iRPGGNcvbDPczL9RbwT5ufxD5nOBL968UBjjPNq+rPHj890hvhGmS4Fd+ryoGOMMS8hOXne52mZlqS8JMlTly5JBrAl6rpX4AEAgF6s4QUAoDXBCwBAa4IXAIDWBC8AAK0JXgAAWhO8AAC0JngPYjU5fP6TnAAArCB4D26HZfqLR4ft9EQAAA5UghcAgNYELwAArQleAABaE7wAALQmeAEAaE3wAgDQmuAFAKA1wQsAQGuCFwCA1gQvAACtCV4AAFoTvAAAtCZ4AQBoTfACANCa4AUAoDXBCwBAa4IXAIDWBC8AAK0JXgAAWhO8AAC0JngBAGhN8AIA0JrgBQCgNcELAEBrghcAgNYELwAArQleAABaE7wAALQmeAEAaE3wAgDQmuAFAKA1wQsAQGuCFwCA1gQvAACtCV4AAFoTvAAAtCZ4AQBoTfACANCa4AUAoDXBCwBAa4IXAIDWBC8AAK0JXgAAWhO8AAC0JngBAGhN8AIA0JrgBQCgNcELAEBrghcAgNYELwAArQleAABaE7wAALQmeAEAaE3wAgDQmuAFAKA1wQsAQGuCFwCA1gQvAACtCV4AAFoTvAAAtCZ4AQBoTfACANCa4AUAoDXBCwBAa4IXAIDWBC8AAK0JXgAAWhO8AAC0JngBAGhN8AIA0JrgBQCgNcELAEBrghcAgNYELwAArQleAABaE7wAALQmeAEAaE3wAgDQmuAFAKA1wQsAQGuCFwCA1gQvAACtCV4AAFoTvAAAtCZ4AQBoTfACANCa4AUAoDXBCwBAa4IXAIDWBC8AAK0JXgAAWhO8AAC0JngBAGhN8AIA0JrgBQCgNcELAEBrghcAgNYELwAArQleAABaE7wAALQmeAEAaE3wAgDQ2iE7PQHooCo3SnLoTs8DgAPe1WPkizs9id1G8G6jqqokh23jEG+eb8+pqrGN47CuI78qefutk9t4xwSAvXjyR6qed7dtHuSKMYYuWFB+Htunqg5PctlOzwMA2FWOGGNcvtOTOJAI3m20n87w3j3JRUm8kDvmPjdOXnOr5F+vSb79kp2eDQAHsqsvTr54n20exBneJYL3ILZwBtlvcjuoKvdJclaSc8bInXZ4OgDAEmsOAQBoTfACANCa4AUAoDXBCwBAa4IXAIDWBC8AAK0JXgAAWhO8AAC0JngBAGhN8AIA0JrgBQCgNcELAEBrghcAgNYELwAArQleAABaE7wAALQmeAEAaE3wAgDQmuAFAKA1wQsAQGuCFwCA1gQvAACtCV4AAFoTvAAAtCZ4AQBoTfACANCa4AUAoDXBCwBAa4IXAIDWBC8AAK0JXgAAWhO8sHXGTk8AALg+wQsAQGuCFwCA1gQvAACtCV4AAFoTvAAAtCZ4AQBoTfACANCa4AUAoDXBCwBAa4IXAIDWBC8AAK0JXgAAWhO8AAC0JnjhhqudngAAsGeCFwCA1gQvAACtCV4AAFoTvAAAtCZ4AQBoTfACANCa4AUAoDXBCwBAa4IXAIDWBC8AAK0JXgAAWhO8AAC0JngBAGhN8AIA0JrgBQCgNcELAEBrghcAgNYELwAArQle2DpjpycAAFyf4AUAoDXBCwBAa4IXAIDWBC8AAK0JXgAAWhO8AAC0JngBAGhN8AIA0JrgBQCgNcELAEBrghcAgNYELwAArQleAABaE7wAALQmeAEAaE3wAgDQmuAFAKA1wQsAQGuCFwCA1gQvAACtCV4AAFoTvAAAtCZ4AQBoTfACANCa4AUAoDXBCwBAa4IXAIDWBC8AAK0JXgAAWjtkpyfADfHPD0q+Icl5j6jKlTs9m13sG3d6AgDAntUYY6fnwD6q+uwFydfeIbksyeE7PR2Sfxwj99jpSQAA1+UM70HtqtOTPDy56rVJrtnp2exy1yZ54U5PAgC4Pmd4D2JVdXim07tHjDEu3+n5AAAciHxoDQCA1gQvAACtCV4AAFoTvAAAtCZ4AQBozVUaDmJVVUkOS3LF8EICAKwkeAEAaM2SBgAAWhO8AAC0JngBAGhN8AIA0JrgBQCgNcELAEBrghcAgNYELwAArQleAABaE7wAALQmeAEAaE3wAgDQmuAFAKA1wQsAQGuCFwCA1gQvAACtCV4AAFoTvAAAtCZ4AQBoTfACANCa4AUAoDXBCwBAa4IXAIDWBC8AAK0JXgAAWhO8AAC0JngBAGhN8AIA0JrgBQCgNcELAEBrghcAgNYELwAArQleAABaE7wAALQmeAEAaE3wAgDQmuAFAKA1wQsAQGuCFwCA1gQvAACtCV4AAFoTvAAAtCZ4AQBoTfACANCa4AUAoDXBCwBAa4IXAIDWBC8AAK0JXgAAWhO8AAC0JngBAGhN8AIA0JrgBQCgNcELAEBrghcAgNYELwAArQleAABaE7wAALQmeAEAaE3wAgDQmuAFAKA1wQsAQGuCFwCA1v4/1Y3i1JdVVLkAAAAASUVORK5CYII=' width=700.0/>\n",
       "            </div>\n",
       "        "
      ],
      "text/plain": [
       "Canvas(toolbar=Toolbar(toolitems=[('Home', 'Reset original view', 'home', 'home'), ('Back', 'Back to previous …"
      ]
     },
     "metadata": {},
     "output_type": "display_data"
    }
   ],
   "source": [
    "EI, x = sym.symbols('EI, x',real=True)\n",
    "\n",
    "Av, Am, Bv, phi_S = sym.symbols('Av, Am, Bv, phi_S',real=True)\n",
    "a = sym.symbols('a',real=True,positive=True)\n",
    "C1, C2, C3, C4 = sym.symbols('C1, C2, C3, C4')\n",
    "\n",
    "L1 = 5\n",
    "L2 = 5\n",
    "EI = 5000\n",
    "\n",
    "q = -Av * sym.SingularityFunction(x,0,-1) - Am * sym.SingularityFunction(x,0,-2) - Bv * sym.SingularityFunction(x,L1+L2,-1) + 1 * sym.SingularityFunction(x,a,-1)\n",
    "V = -sym.integrate(q,x)+C1\n",
    "M = sym.integrate(V,x)+C2\n",
    "kappa = M / EI\n",
    "phi = sym.integrate(kappa,x)+C3 + phi_S * sym.SingularityFunction(x,L1,0)\n",
    "w = sym.integrate(phi,x)+C4\n",
    "eq1 = sym.Eq(w.subs(x,0),0)\n",
    "eq2 = sym.Eq(phi.subs(x,0),0)\n",
    "eq3 = sym.Eq(w.subs(x,L1+L2),0)\n",
    "eq4 = sym.Eq(M.subs(x,-1),0)\n",
    "eq5 = sym.Eq(M.subs(x,L1),0)\n",
    "eq6 = sym.Eq(V.subs(x,-1),0)\n",
    "eq7 = sym.Eq(V.subs(x,L1+L2+1),0)\n",
    "eq8 = sym.Eq(M.subs(x,L1+L2),0)\n",
    "sol = sym.solve([eq1,eq2,eq3,eq4,eq5,eq6,eq7,eq8],[C1,C2,C3,C4,Av,Bv,Am,phi_S])\n",
    "V_sol = V.subs(sol)\n",
    "V_subs = V_sol\n",
    "V_numpy = sym.lambdify([a,x],V_sol.rewrite(sym.Piecewise))\n",
    "M_sol = M.subs(sol)\n",
    "M_subs = M_sol\n",
    "M_numpy = sym.lambdify([a,x],M_sol.rewrite(sym.Piecewise))\n",
    "\n",
    "fig, axs = plt.subplots(2, 1, figsize=(7, 6))\n",
    "def func(a):\n",
    "    x = 0\n",
    "    x = np.append(x,np.linspace(0.0001,a-0.0001,2))\n",
    "    x = np.append(x,np.linspace(a+0.0001,10,2))\n",
    "    x = np.append(x,10)\n",
    "    axs[0].clear()  # Clear the existing plot\n",
    "    axs[0].plot([0,10],[0,0],color='black',linewidth=2)\n",
    "    axs[0].grid()\n",
    "    axs[0].axis('equal')\n",
    "    axs[0].plot(x,M_numpy(a,x)/2,color='blue')\n",
    "    #axs[0].annotate('%.2f kNm' % M_numpy(5,5,b,5000,a),xy = [a,M_numpy(5,5,b,5000,a)+0.5])\n",
    "    #axs[0].annotate(text='', xy=(b,0), xytext=(b,-1), arrowprops=dict(arrowstyle='simple'))\n",
    "    axs[0].invert_yaxis()\n",
    "    axs[0].set_ylim(1,-3)\n",
    "    title0 = 'Moment distribution'\n",
    "    axs[0].set_title(title0)\n",
    "\n",
    "    axs[1].clear()  # Clear the existing plot\n",
    "    axs[1].plot([0,10],[0,0],color='black',linewidth=2)\n",
    "    axs[1].grid()\n",
    "    axs[1].axis('equal')\n",
    "    axs[1].plot(x,V_numpy(a,x)*2,color='blue')\n",
    "    #axs[0].annotate('%.2f kNm' % M_numpy(5,5,b,5000,a),xy = [a,M_numpy(5,5,b,5000,a)+0.5])\n",
    "    #axs[0].annotate(text='', xy=(b,0), xytext=(b,-1), arrowprops=dict(arrowstyle='simple'))\n",
    "    axs[1].invert_yaxis()\n",
    "    axs[1].set_ylim(2,-2)\n",
    "    title0 = 'Shear distribution'\n",
    "    axs[1].set_title(title0)\n",
    "\n",
    "    axs[0].set_yticks([])\n",
    "    axs[0].set_xticks([])\n",
    "    axs[0].spines['right'].set_color('none')\n",
    "    axs[0].spines['top'].set_color('none')\n",
    "    axs[0].spines['bottom'].set_position('zero')\n",
    "    axs[0].spines['left'].set_position('zero')\n",
    "\n",
    "    axs[1].set_yticks([])\n",
    "    axs[1].set_xticks([])\n",
    "    axs[1].spines['right'].set_color('none')\n",
    "    axs[1].spines['top'].set_color('none')\n",
    "    axs[1].spines['bottom'].set_position('zero')\n",
    "    axs[1].spines['left'].set_position('zero')\n",
    "\n",
    "    # set background transparent\n",
    "    fig.patch.set_alpha(0.0)\n",
    "    axs[0].patch.set_alpha(0.0)\n",
    "    axs[1].patch.set_alpha(0.0)\n",
    "\n",
    "    plt.draw()  \n",
    "\n",
    "    \n",
    "interact(func, a = widgets.FloatSlider(min=0.1, max=9.9, value=2, step=0.1, description=\"Location force x_F = ... (m)\",readout_format='.1f',style= {'description_width': '180px'},layout = {'width': '400px'}));"
   ]
  },
  {
   "cell_type": "markdown",
   "metadata": {},
   "source": [
    "```{solution-end}\n",
    "```\n",
    "\n",
    "```{exercise}\n",
    ":label: exercise5\n",
    "\n",
    "Draw the shape of the shear force diagram without making any calculations for a distributed load between:\n",
    "- $x=0$ and $x=5$\n",
    "- $x=2.5$ and $x=7.5$\n",
    "- $x=5$ and $x=10$\n",
    "- $x=7.5$ and $x=10$\n",
    "```\n",
    "\n",
    "```{solution-start} exercise5\n",
    "```\n",
    "\n",
    "Click {fa}`rocket` --> {guilabel}`Live Code` on the top right corner of this screen to show the interactive widget which can be used to find the solution.\n",
    "\n",
    "If the plot doesn't respond to the slider, click the figure once and try again."
   ]
  },
  {
   "cell_type": "code",
   "execution_count": 33,
   "metadata": {
    "tags": [
     "thebe-remove-input-init"
    ]
   },
   "outputs": [
    {
     "data": {
      "application/vnd.jupyter.widget-view+json": {
       "model_id": "e1b06259afb348da8ed62170a36023a0",
       "version_major": 2,
       "version_minor": 0
      },
      "text/plain": [
       "interactive(children=(FloatSlider(value=0.1, description='Location start distributed load x_start = ... (m)', …"
      ]
     },
     "metadata": {},
     "output_type": "display_data"
    },
    {
     "data": {
      "application/vnd.jupyter.widget-view+json": {
       "model_id": "178d241c85854188baedc09e0b0796bd",
       "version_major": 2,
       "version_minor": 0
      },
      "image/png": "[encoded data removed]",
      "text/html": [
       "\n",
       "            <div style=\"display: inline-block;\">\n",
       "                <div class=\"jupyter-widgets widget-label\" style=\"text-align: center;\">\n",
       "                    Figure\n",
       "                </div>\n",
       "                <img src='data:image/png;base64,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' width=700.0/>\n",
       "            </div>\n",
       "        "
      ],
      "text/plain": [
       "Canvas(toolbar=Toolbar(toolitems=[('Home', 'Reset original view', 'home', 'home'), ('Back', 'Back to previous …"
      ]
     },
     "metadata": {},
     "output_type": "display_data"
    }
   ],
   "source": [
    "EI_new, x_new = sym.symbols('EI_new, x_new', real=True)\n",
    "Av_new, Am_new, Bv_new, phi_S_new = sym.symbols('Av_new, Am_new, Bv_new, phi_S_new', real=True)\n",
    "a_new, b_new = sym.symbols('a_new, b_new', real=True, positive=True)\n",
    "C1_new, C2_new, C3_new, C4_new = sym.symbols('C1_new, C2_new, C3_new, C4_new')\n",
    "\n",
    "L1_new = 5\n",
    "L2_new = 5\n",
    "EI_new = 5000\n",
    "\n",
    "q_new = -Av_new * sym.SingularityFunction(x_new, 0, -1) - Am_new * sym.SingularityFunction(x_new, 0, -2) - Bv_new * sym.SingularityFunction(x_new, L1_new + L2_new, -1) + sym.SingularityFunction(x_new, a_new, 0) - sym.SingularityFunction(x_new, a_new + b_new, 0)\n",
    "V_new = -sym.integrate(q_new, x_new) + C1_new\n",
    "M_new = sym.integrate(V_new, x_new) + C2_new\n",
    "kappa_new = M_new / EI_new\n",
    "phi_new = sym.integrate(kappa_new, x_new) + C3_new + phi_S_new * sym.SingularityFunction(x_new, L1_new, 0)\n",
    "w_new = sym.integrate(phi_new, x_new) + C4_new\n",
    "eq1_new = sym.Eq(w_new.subs(x_new, 0), 0)\n",
    "eq2_new = sym.Eq(phi_new.subs(x_new, 0), 0)\n",
    "eq3_new = sym.Eq(w_new.subs(x_new, L1_new + L2_new), 0)\n",
    "eq4_new = sym.Eq(M_new.subs(x_new, -1), 0)\n",
    "eq5_new = sym.Eq(M_new.subs(x_new, L1_new), 0)\n",
    "eq6_new = sym.Eq(V_new.subs(x_new, -1), 0)\n",
    "eq7_new = sym.Eq(V_new.subs(x_new, L1_new + L2_new + 1), 0)\n",
    "eq8_new = sym.Eq(M_new.subs(x_new, L1_new + L2_new), 0)\n",
    "sol_new = sym.solve([eq1_new, eq2_new, eq3_new, eq4_new, eq5_new, eq6_new, eq7_new, eq8_new], [C1_new, C2_new, C3_new, C4_new, Av_new, Bv_new, Am_new, phi_S_new])\n",
    "V_sol_new = V_new.subs(sol_new)\n",
    "V_subs_new = V_sol_new\n",
    "V_numpy_new = sym.lambdify([a_new, b_new, x_new], V_sol_new.rewrite(sym.Piecewise))\n",
    "M_sol_new = M_new.subs(sol_new)\n",
    "M_subs_new = M_sol_new\n",
    "M_numpy_new = sym.lambdify([a_new, b_new, x_new], M_sol_new.rewrite(sym.Piecewise))\n",
    "\n",
    "fig_new, axs_new = plt.subplots(2, 1, figsize=(7, 6))\n",
    "def func_new(a_new, b_new):\n",
    "    x_new = 0\n",
    "    x_new = np.append(x_new, np.linspace(0.0001, 10 - 0.0001, 100))\n",
    "    x_new = np.append(x_new, 10)\n",
    "    axs_new[0].clear()  # Clear the existing plot\n",
    "    axs_new[0].plot([0, 10], [0, 0], color='black', linewidth=2)\n",
    "    axs_new[0].grid()\n",
    "    axs_new[0].axis('equal')\n",
    "    axs_new[0].plot(x_new, M_numpy_new(a_new, b_new, x_new)/8, color='blue')\n",
    "    axs_new[0].invert_yaxis()\n",
    "    axs_new[0].set_ylim(1, -3.5)\n",
    "    title0_new = 'Moment distribution'\n",
    "    axs_new[0].set_title(title0_new)\n",
    "\n",
    "    axs_new[1].clear()  # Clear the existing plot\n",
    "    axs_new[1].plot([0, 10], [0, 0], color='black', linewidth=2)\n",
    "    axs_new[1].grid()\n",
    "    axs_new[1].axis('equal')\n",
    "    axs_new[1].plot(x_new, V_numpy_new(a_new, b_new, x_new)/3, color='blue')\n",
    "    axs_new[1].invert_yaxis()\n",
    "    axs_new[1].set_ylim(2.5, -1)\n",
    "    title1_new = 'Shear distribution'\n",
    "    axs_new[1].set_title(title1_new)\n",
    "\n",
    "    axs_new[0].set_yticks([])\n",
    "    axs_new[0].set_xticks([])\n",
    "    axs_new[0].spines['right'].set_color('none')\n",
    "    axs_new[0].spines['top'].set_color('none')\n",
    "    axs_new[0].spines['bottom'].set_position('zero')\n",
    "    axs_new[0].spines['left'].set_position('zero')\n",
    "\n",
    "    axs_new[1].set_yticks([])\n",
    "    axs_new[1].set_xticks([])\n",
    "    axs_new[1].spines['right'].set_color('none')\n",
    "    axs_new[1].spines['top'].set_color('none')\n",
    "    axs_new[1].spines['bottom'].set_position('zero')\n",
    "    axs_new[1].spines['left'].set_position('zero')\n",
    "\n",
    "    fig_new.patch.set_alpha(0.0)\n",
    "    axs_new[0].patch.set_alpha(0.0)\n",
    "    axs_new[1].patch.set_alpha(0.0)\n",
    "\n",
    "    plt.draw()\n",
    "    \n",
    "interact(func_new, a_new=widgets.FloatSlider(min=0.1, max=9.9, value=0, step=0.1, description=\"Location start distributed load x_start = ... (m)\", readout_format='.1f', style={'description_width': '280px'}, layout={'width': '500px'}), \n",
    "         b_new=widgets.FloatSlider(min=0.1, max=9.9, value=5, step=0.1, description=\"Length distributed load x_end = x_start + ... (m)\", readout_format='.1f', style={'description_width': '280px'}, layout={'width': '500px'}));\n"
   ]
  },
  {
   "cell_type": "markdown",
   "metadata": {},
   "source": [
    "```{solution-end}\n",
    "```\n",
    "\n",
    "```{exercise-start}\n",
    ":label: exercise6\n",
    "\n",
    "What happens to the shape of the moment and shear force diagram when combining the results from above? Try to answer the following questions:\n",
    "- Where can you find a kink?\n",
    "- Where can you find a jump?\n",
    "- Where is the bending moment always 0?\n",
    "- Where is the shear force always 0?\n",
    "- Where is the bending moment line always linear or quadratic?\n",
    "- Where is the bending moment line always (nonzero-)constant or linear?\n",
    "\n",
    "Click {fa}`rocket` --> {guilabel}`Live Code` on the top right corner of this screen to show the interactive widget.\n",
    "\n",
    "If the plot doesn't respond to the slider, click the figure once and try again.\n",
    "```"
   ]
  },
  {
   "cell_type": "code",
   "execution_count": 49,
   "metadata": {
    "tags": [
     "thebe-remove-input-init"
    ]
   },
   "outputs": [
    {
     "data": {
      "application/vnd.jupyter.widget-view+json": {
       "model_id": "99f9cdf72df942bd92a448d391af999c",
       "version_major": 2,
       "version_minor": 0
      },
      "text/plain": [
       "interactive(children=(FloatSlider(value=0.0, description='Location start distributed load x_start = ... (m)', …"
      ]
     },
     "metadata": {},
     "output_type": "display_data"
    },
    {
     "data": {
      "application/vnd.jupyter.widget-view+json": {
       "model_id": "e6fdc4027251453bbc8a07eedbca5169",
       "version_major": 2,
       "version_minor": 0
      },
      "image/png": "[encoded data removed]",
      "text/html": [
       "\n",
       "            <div style=\"display: inline-block;\">\n",
       "                <div class=\"jupyter-widgets widget-label\" style=\"text-align: center;\">\n",
       "                    Figure\n",
       "                </div>\n",
       "                <img src='data:image/png;base64,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' width=700.0/>\n",
       "            </div>\n",
       "        "
      ],
      "text/plain": [
       "Canvas(toolbar=Toolbar(toolitems=[('Home', 'Reset original view', 'home', 'home'), ('Back', 'Back to previous …"
      ]
     },
     "metadata": {},
     "output_type": "display_data"
    }
   ],
   "source": [
    "EI_alt, x_alt = sym.symbols('EI_alt, x_alt', real=True)\n",
    "Av_alt, Am_alt, Bv_alt, phi_S_alt = sym.symbols('Av_alt, Am_alt, Bv_alt, phi_S_alt', real=True)\n",
    "a_alt, b_alt, c_alt = sym.symbols('a_alt, b_alt, c_alt', real=True, positive=True)\n",
    "C1_alt, C2_alt, C3_alt, C4_alt = sym.symbols('C1_alt, C2_alt, C3_alt, C4_alt')\n",
    "\n",
    "L1_alt = 5\n",
    "L2_alt = 5\n",
    "EI_alt = 5000\n",
    "\n",
    "q_alt = -Av_alt * sym.SingularityFunction(x_alt, 0 , -1) - Am_alt * sym.SingularityFunction(x_alt, 0, -2) - Bv_alt * sym.SingularityFunction(x_alt, L1_alt + L2_alt, -1) + sym.SingularityFunction(x_alt, a_alt, 0)- sym.SingularityFunction(x_alt, a_alt + b_alt, 0) + 10 * sym.SingularityFunction(x_alt, c_alt, -1)\n",
    "V_alt = -sym.integrate(q_alt, x_alt) + C1_alt\n",
    "M_alt = sym.integrate(V_alt, x_alt) + C2_alt\n",
    "kappa_alt = M_alt / EI_alt\n",
    "phi_alt = sym.integrate(kappa_alt, x_alt) + C3_alt + phi_S_alt * sym.SingularityFunction(x_alt, L1_alt, 0)\n",
    "w_alt = sym.integrate(phi_alt, x_alt) + C4_alt\n",
    "eq1_alt = sym.Eq(w_alt.subs(x_alt, 0), 0)\n",
    "eq2_alt = sym.Eq(phi_alt.subs(x_alt, 0), 0)\n",
    "eq3_alt = sym.Eq(w_alt.subs(x_alt, L1_alt + L2_alt), 0)\n",
    "eq4_alt = sym.Eq(M_alt.subs(x_alt, -1), 0)\n",
    "eq5_alt = sym.Eq(M_alt.subs(x_alt, L1_alt), 0)\n",
    "eq6_alt = sym.Eq(V_alt.subs(x_alt, -1), 0)\n",
    "eq7_alt = sym.Eq(V_alt.subs(x_alt, L1_alt + L2_alt + 1), 0)\n",
    "eq8_alt = sym.Eq(M_alt.subs(x_alt, L1_alt + L2_alt), 0)\n",
    "sol_alt = sym.solve([eq1_alt, eq2_alt, eq3_alt, eq4_alt, eq5_alt, eq6_alt, eq7_alt, eq8_alt], [C1_alt, C2_alt, C3_alt, C4_alt, Av_alt, Bv_alt, Am_alt, phi_S_alt])\n",
    "V_sol_alt = V_alt.subs(sol_alt)\n",
    "V_subs_alt = V_sol_alt\n",
    "V_numpy_alt = sym.lambdify([a_alt, b_alt, c_alt, x_alt], V_sol_alt.rewrite(sym.Piecewise))\n",
    "M_sol_alt = M_alt.subs(sol_alt)\n",
    "M_subs_alt = M_sol_alt\n",
    "M_numpy_alt = sym.lambdify([a_alt, b_alt, c_alt, x_alt], M_sol_alt.rewrite(sym.Piecewise))\n",
    "\n",
    "fig_alt, axs_alt = plt.subplots(2, 1, figsize=(7, 6))\n",
    "def func_alt(a_alt, b_alt, c_alt):\n",
    "    x_alt = 0\n",
    "    x_alt = np.append(x_alt, np.linspace(0.0001, 10, 100))\n",
    "    x_alt = np.append(x_alt, 10)\n",
    "    axs_alt[0].clear()  # Clear the existing plot\n",
    "    axs_alt[0].plot([0, 10], [0, 0], color='black', linewidth=2)\n",
    "    axs_alt[0].grid()\n",
    "    axs_alt[0].axis('equal')\n",
    "    axs_alt[0].plot(x_alt, M_numpy_alt(a_alt, b_alt, c_alt, x_alt) / 23, color='blue')\n",
    "    axs_alt[0].invert_yaxis()\n",
    "    axs_alt[0].set_ylim(1.75, -4.25)\n",
    "    title0_alt = 'Moment distribution'\n",
    "    axs_alt[0].set_title(title0_alt)\n",
    "\n",
    "    axs_alt[1].clear()  # Clear the existing plot\n",
    "    axs_alt[1].plot([0, 10], [0, 0], color='black', linewidth=2)\n",
    "    axs_alt[1].grid()\n",
    "    axs_alt[1].axis('equal')\n",
    "    axs_alt[1].plot(x_alt, V_numpy_alt(a_alt, b_alt, c_alt, x_alt) / 8, color='blue')\n",
    "    axs_alt[1].invert_yaxis()\n",
    "    axs_alt[1].set_ylim(2.5, -1.5)\n",
    "    title1_alt = 'Shear distribution'\n",
    "    axs_alt[1].set_title(title1_alt)\n",
    "\n",
    "    axs_alt[0].set_yticks([])\n",
    "    axs_alt[0].set_xticks([])\n",
    "    axs_alt[0].spines['right'].set_color('none')\n",
    "    axs_alt[0].spines['top'].set_color('none')\n",
    "    axs_alt[0].spines['bottom'].set_position('zero')\n",
    "    axs_alt[0].spines['left'].set_position('zero')\n",
    "\n",
    "    axs_alt[1].set_yticks([])\n",
    "    axs_alt[1].set_xticks([])\n",
    "    axs_alt[1].spines['right'].set_color('none')\n",
    "    axs_alt[1].spines['top'].set_color('none')\n",
    "    axs_alt[1].spines['bottom'].set_position('zero')\n",
    "    axs_alt[1].spines['left'].set_position('zero')\n",
    "\n",
    "    fig_alt.patch.set_alpha(0.0)\n",
    "    axs_alt[0].patch.set_alpha(0.0)\n",
    "    axs_alt[1].patch.set_alpha(0.0)\n",
    "\n",
    "    plt.draw()\n",
    "\n",
    "interact(func_alt, a_alt=widgets.FloatSlider(min=0, max=10, value=0, step=0.1, description=\"Location start distributed load x_start = ... (m)\", readout_format='.1f', style={'description_width': '280px'}, layout={'width': '500px'}), \n",
    "         b_alt=widgets.FloatSlider(min=0.1, max=10, value=0, step=0.1, description=\"Length distributed load x_end = x_start + ... (m)\", readout_format='.1f', style={'description_width': '280px'}, layout={'width': '500px'}),\n",
    "         c_alt=widgets.FloatSlider(min=0, max=10, value=7.5, step=0.1, description=\"Location force x_F = ... (m)\", readout_format='.1f', style={'description_width': '280px'}, layout={'width': '500px'}));\n"
   ]
  },
  {
   "cell_type": "markdown",
   "metadata": {},
   "source": [
    "```{exercise-end}\n",
    "```"
   ]
  }
 ],
 "metadata": {
  "kernelspec": {
   "display_name": "base",
   "language": "python",
   "name": "python3"
  },
  "language_info": {
   "codemirror_mode": {
    "name": "ipython",
    "version": 3
   },
   "file_extension": ".py",
   "mimetype": "text/x-python",
   "name": "python",
   "nbconvert_exporter": "python",
   "pygments_lexer": "ipython3",
   "version": "3.9.18"
  }
 },
 "nbformat": 4,
 "nbformat_minor": 2
}
