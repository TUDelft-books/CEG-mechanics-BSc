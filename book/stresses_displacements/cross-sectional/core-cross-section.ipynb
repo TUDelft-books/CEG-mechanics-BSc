{
 "cells": [
  {
   "cell_type": "markdown",
   "metadata": {},
   "source": [
    "```{index} Neutral axis\n",
    "```\n",
    "\n",
    "# Core of a cross-section\n",
    "\n",
    "```{figure} ./core-cross-section_data/image.png\n",
    ":align: center\n",
    ":width: 300\n",
    "\n",
    "Figure 9.80 {cite:ts}`Hartsuijker2007`\n",
    "```\n",
    "\n",
    "```{glossary}\n",
    "Core of cross-section\n",
    "  A centre of force within the core corresponds with a stress distribution in the cross-section that does not exhibit a change in sign.\n",
    "\n",
    "```\n",
    "\n",
    "This is treated in chapter 4.9 and 9.15.1 of the book Engineering Mechanics Volume 2 {cite:p}`Hartsuijker2007`. Chapter 9 is not part of the Dutch version but can be found chapter 1.5 of Niet-symmetrische en inhomogene doorsnedes {cite}`Hartsuijker2009`.\n",
    "\n",
    "To find the complete core of a cross-section the method is treated for nonsymmetrical cross-sections in chapter 9.15.2 of the book Engineering Mechanics Volume 2 {cite:p}`Hartsuijker2007`. For symmetrical cross-sections the following relations simplify:\n",
    "\n",
    "- Equation 9.40 transforms into two independent equations: $M_y = EI_{yy} \\cdot \\kappa_y$ and $M_z = EI_{zz} \\cdot \\kappa_z$\n",
    "- Equation 9.75 transforms into two independent equations: $e_y = -\\cfrac{I_{yy}}{A \\cdot y_1}$ and $e_z = -\\cfrac{I_{yy}}{A \\cdot z_1}$\n",
    "\n",
    "## Example complete core of a symmetrical cross-section\n",
    "\n",
    "Give is the following cross-section:\n",
    "\n",
    "```{figure} ./core-cross-section_data/cross-section.svg\n",
    ":align: center\n",
    "```\n",
    "\n",
    "with:\n",
    "- $A = 180000 \\text{ mm}^2$\n",
    "- $I_{zz} = 4.134375 \\cdot 10^9 \\text{ mm}^4$\n",
    "- $I_{yy} = 2.3625 \\cdot 10^9 \\text{ mm}^4$\n",
    "\n",
    "The core is defined by the neutral axes along the sides of the cross-section: side $\\text{AI}$, $\\text{IH}$, $\\text{EH}$, $\\text{DE}$ and symmetrical $\\text{BD}$ and $\\text{AB}$.\n",
    "\n",
    "### Side $\\text{AI}$\n",
    "\n",
    "For $\\text{AI}$, $y_1 = \\infty$ and $z_1 = -225 \\text{ mm}$:\n",
    "\n",
    "```{figure} ./core-cross-section_data/z1.svg\n",
    ":align: center\n",
    "```\n",
    "\n",
    "This results in:\n",
    "\n",
    "- $e_y = -\\cfrac{2.3625  \\cdot 10^9 }{180000 \\cdot \\infty} = 0 \\text{ mm}$\n",
    "- $e_z = -\\cfrac{4.134375 \\cdot 10^9}{180000 \\cdot -225} \\approx 102 \\text{ mm} $\n",
    "\n",
    "This gives the first core point:\n",
    "\n",
    "```{figure} ./core-cross-section_data/e1.svg\n",
    ":align: center\n",
    "```\n",
    "\n",
    "### Side $\\text{IH}$\n",
    "\n",
    "For $\\text{IH}$, $y_1 = -225 \\text{ mm}$ and $z_1 = \\infty$. This results in:\n",
    "\n",
    "- $e_y = -\\cfrac{2.3625  \\cdot 10^9 }{180000 \\cdot -225} \\approx 58 \\text{ mm}$\n",
    "- $e_z = -\\cfrac{4.134375 \\cdot 10^9}{180000 \\cdot \\infty} = 0 \\text{ mm}$\n",
    "\n",
    "### Side $\\text{EH}$\n",
    "\n",
    "For $\\text{EH}$, $y_1$ and $z_1$ can not directly be found from the figure, but need to be calculated. The points $\\text{E } \\left(-75,375\\right)$ and $\\text{H }\\left(-225,75\\right)$ are known, giving the equation for the neutral axis: $z = 2 \\cdot y + 525$. This gives $y_1 = -262.5 \\text{ mm}$ and $z_1 = 525 \\text{ mm}$.\n",
    "\n",
    "```{figure} ./core-cross-section_data/z2.svg\n",
    ":align: center\n",
    "```\n",
    "\n",
    "This results in:\n",
    "\n",
    "- $e_y = -\\cfrac{2.3625  \\cdot 10^9 }{180000 \\cdot -262.5} = 50\\text{ mm}$\n",
    "- $e_z = -\\cfrac{4.134375 \\cdot 10^9}{180000 \\cdot 525} = -43.75 \\text{ mm} $\n",
    "\n",
    "### Side $\\text{DE}$\n",
    "For $\\text{IH}$, $y_1 = \\infty$ and $z_1 = 375 \\text{ mm}$. This results in:\n",
    "\n",
    "- $e_y = -\\cfrac{2.3625  \\cdot 10^9 }{180000 \\cdot \\infty} = 0 \\text{ mm}$\n",
    "- $e_z = -\\cfrac{4.134375 \\cdot 10^9}{180000 \\cdot 375} = -61.25 \\text{ mm}$\n",
    "\n",
    "### Side $\\text{DH}$\n",
    "\n",
    "Side $\\text{DH}$ is the mirror neutral axis and core point from $\\text{EH}$ giving: \n",
    "\n",
    "- $e_y = -50 \\text{ mm}$\n",
    "- $e_z = -43.75 \\text{ mm} $\n",
    "\n",
    "### Side $\\text{AB}$\n",
    "Side $\\text{AB}$ is the mirror neutral axis and core point from $\\text{HI}$ giving: \n",
    "\n",
    "- $e_y \\approx -58 \\text{ mm}$\n",
    "- $e_z = 0 \\text{ mm} $\n",
    "\n",
    "### Core\n",
    "All these points result in the core:\n",
    "\n",
    "```{figure} ./core-cross-section_data/core.svg\n",
    ":align: center\n",
    "```\n",
    "\n",
    "## Exercises\n",
    "- Exercises 4.65-4.72, in chapter 4.14 of the book Engineering Mechanics Volume 2 {cite:p}`Hartsuijker2007`. Answers are available on [this website](https://icozct.tudelft.nl/TUD_CT/bookanswers/vol2/Chapter4/).\n",
    "- Exercise 9.31:1-2, 9.32:1, 9.33:2 in chapter 9.18 of the book Engineering Mechanics Volume 2 {cite:p}`Hartsuijker2007`.\n",
    "- Vraagstuk 5 in chapter 2.6 of the book Niet-symmetrische en inhomogene doorsnedes {cite:p}`Hartsuijker2009`. Answers available [here](../../antwoorden_Niet-symmetrische_en_inhomogene_doorsnedes.pdf)"
   ]
  },
  {
   "cell_type": "code",
   "execution_count": 8,
   "metadata": {
    "tags": [
     "remove-cell"
    ]
   },
   "outputs": [
    {
     "data": {
      "text/plain": [
       "225.0"
      ]
     },
     "metadata": {},
     "output_type": "display_data"
    },
    {
     "data": {
      "text/plain": [
       "4134375000.0"
      ]
     },
     "metadata": {},
     "output_type": "display_data"
    },
    {
     "data": {
      "text/plain": [
       "2362500000.0"
      ]
     },
     "metadata": {},
     "output_type": "display_data"
    },
    {
     "data": {
      "text/plain": [
       "180000"
      ]
     },
     "metadata": {},
     "output_type": "display_data"
    },
    {
     "name": "stdout",
     "output_type": "stream",
     "text": [
      "102.08333333333333\n",
      "58.333333333333336\n",
      "50.0 -43.75\n",
      "-61.25\n"
     ]
    }
   ],
   "source": [
    "z_C = (300*450*150+300*150*450)/(300*450+150*300)\n",
    "Izz = 1/12*450*300**3+300*450*(z_C-150)**2 + 1/12*300*150**3+300*150*(z_C-450)**2\n",
    "Iyy = 1/12*450**3*300+1/12*150**3*300\n",
    "A = 450*300+150*300\n",
    "display(z_C, Izz, Iyy, A)\n",
    "\n",
    "e_z_1 = -Izz / (A * -225)\n",
    "print(e_z_1)\n",
    "e_y_2 = -Iyy / (A * -225)\n",
    "print(e_y_2)\n",
    "e_y_3 = -Iyy / (A * -262.5)\n",
    "e_z_3 = -Izz / (A * 525)\n",
    "print(e_y_3, e_z_3)\n",
    "\n",
    "e_z_4 = -Izz / (A * 375)\n",
    "print(e_z_4)"
   ]
  },
  {
   "cell_type": "code",
   "execution_count": 6,
   "metadata": {
    "tags": [
     "remove-cell"
    ]
   },
   "outputs": [
    {
     "data": {
      "text/plain": [
       "{a: 2, b: 525}"
      ]
     },
     "metadata": {},
     "output_type": "display_data"
    }
   ],
   "source": [
    "import sympy as sym\n",
    "\n",
    "a, b = sym.symbols('a b')\n",
    "\n",
    "eq1 = sym.Eq(375, a * -75 + b)\n",
    "eq2 = sym.Eq(75, -225* a + b)\n",
    "\n",
    "sol = sym.solve((eq1, eq2), (a, b))\n",
    "display(sol)"
   ]
  }
 ],
 "metadata": {
  "kernelspec": {
   "display_name": "base",
   "language": "python",
   "name": "python3"
  },
  "language_info": {
   "codemirror_mode": {
    "name": "ipython",
    "version": 3
   },
   "file_extension": ".py",
   "mimetype": "text/x-python",
   "name": "python",
   "nbconvert_exporter": "python",
   "pygments_lexer": "ipython3",
   "version": "3.9.18"
  }
 },
 "nbformat": 4,
 "nbformat_minor": 2
}
