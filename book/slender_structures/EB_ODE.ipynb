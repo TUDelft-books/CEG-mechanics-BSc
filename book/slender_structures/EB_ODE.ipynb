{
 "cells": [
  {
   "cell_type": "markdown",
   "metadata": {},
   "source": [
    "# Solving Euler Bernoulli ODE with SymPy"
   ]
  },
  {
   "cell_type": "code",
   "execution_count": 3,
   "metadata": {},
   "outputs": [],
   "source": [
    "import sympy as sym\n",
    "sym.init_printing()"
   ]
  },
  {
   "cell_type": "code",
   "execution_count": 14,
   "metadata": {},
   "outputs": [
    {
     "data": {
      "image/png": "[encoded data removed]",
      "text/latex": [
       "$\\displaystyle EI \\frac{d^{4}}{d x^{4}} w{\\left(x \\right)} = q_{z}$"
      ],
      "text/plain": [
       "     4            \n",
       "    d             \n",
       "EI⋅───(w(x)) = q_z\n",
       "     4            \n",
       "   dx             "
      ]
     },
     "metadata": {},
     "output_type": "display_data"
    }
   ],
   "source": [
    "EI, q_z, x, L = sym.symbols('EI, q_z, x, L')\n",
    "w = sym.Function('w')\n",
    "\n",
    "ODE_bending = sym.Eq(w(x).diff(x, 4) *EI, q_z)\n",
    "display(ODE_bending)"
   ]
  },
  {
   "cell_type": "code",
   "execution_count": 15,
   "metadata": {},
   "outputs": [
    {
     "data": {
      "image/png": "[encoded data removed]",
      "text/latex": [
       "$\\displaystyle C_{1} + C_{2} x + C_{3} x^{2} + C_{4} x^{3} + \\frac{q_{z} x^{4}}{24 EI}$"
      ],
      "text/plain": [
       "                                 4\n",
       "                2       3   q_z⋅x \n",
       "C₁ + C₂⋅x + C₃⋅x  + C₄⋅x  + ──────\n",
       "                            24⋅EI "
      ]
     },
     "metadata": {},
     "output_type": "display_data"
    }
   ],
   "source": [
    "w = sym.dsolve(ODE_bending, w(x)).rhs\n",
    "display(w)"
   ]
  },
  {
   "cell_type": "code",
   "execution_count": 16,
   "metadata": {},
   "outputs": [
    {
     "data": {
      "image/png": "[encoded data removed]",
      "text/latex": [
       "$\\displaystyle \\left\\{ C_{1} : 0, \\  C_{2} : 0, \\  C_{3} : \\frac{L^{2} q_{z}}{4 EI}, \\  C_{4} : - \\frac{L q_{z}}{6 EI}\\right\\}$"
      ],
      "text/plain": [
       "⎧                   2                 ⎫\n",
       "⎪                  L ⋅q_z      -L⋅q_z ⎪\n",
       "⎨C₁: 0, C₂: 0, C₃: ──────, C₄: ───────⎬\n",
       "⎪                   4⋅EI         6⋅EI ⎪\n",
       "⎩                                     ⎭"
      ]
     },
     "metadata": {},
     "output_type": "display_data"
    }
   ],
   "source": [
    "phi = -w.diff(x)\n",
    "kappa = phi.diff(x)\n",
    "M = EI * kappa\n",
    "V = M.diff(x)\n",
    "eq1 = sym.Eq(w.subs(x,0),0)\n",
    "eq2 = sym.Eq(phi.subs(x,0),0)\n",
    "eq3 = sym.Eq(M.subs(x,L),0)\n",
    "eq4 = sym.Eq(V.subs(x,L),0)\n",
    "C_sol = sym.solve([eq1, eq2, eq3, eq4 ], sym.symbols('C1, C2, C3, C4'))\n",
    "display(C_sol)"
   ]
  },
  {
   "cell_type": "code",
   "execution_count": 17,
   "metadata": {},
   "outputs": [
    {
     "data": {
      "image/png": "[encoded data removed]",
      "text/latex": [
       "$\\displaystyle \\frac{L^{2} q_{z} x^{2}}{4 EI} - \\frac{L q_{z} x^{3}}{6 EI} + \\frac{q_{z} x^{4}}{24 EI}$"
      ],
      "text/plain": [
       " 2      2          3        4\n",
       "L ⋅q_z⋅x    L⋅q_z⋅x    q_z⋅x \n",
       "───────── - ──────── + ──────\n",
       "   4⋅EI       6⋅EI     24⋅EI "
      ]
     },
     "execution_count": 17,
     "metadata": {},
     "output_type": "execute_result"
    }
   ],
   "source": [
    "w.subs(C_sol)"
   ]
  }
 ],
 "metadata": {
  "kernelspec": {
   "display_name": "base",
   "language": "python",
   "name": "python3"
  },
  "language_info": {
   "codemirror_mode": {
    "name": "ipython",
    "version": 3
   },
   "file_extension": ".py",
   "mimetype": "text/x-python",
   "name": "python",
   "nbconvert_exporter": "python",
   "pygments_lexer": "ipython3",
   "version": "3.9.18"
  }
 },
 "nbformat": 4,
 "nbformat_minor": 2
}
