{
 "cells": [
  {
   "cell_type": "markdown",
   "id": "11aa3d17",
   "metadata": {},
   "source": [
    "# SymPy for solving Euler-Bernoulli"
   ]
  },
  {
   "cell_type": "markdown",
   "id": "08f0e96a",
   "metadata": {},
   "source": [
    "SymPy can be used to solve the Euler-Bernoulli's beam theory. It will take over the cumbersome handcalculations. However the engineering part; the thinking, the modelling and the correct input of the specifications still remains a human matter. "
   ]
  },
  {
   "cell_type": "markdown",
   "id": "92d7e5ef",
   "metadata": {},
   "source": [
    "A simple beam is taken as an example. The beam is loaded with a uniform load `q` on a part of the beam and a force `F`. The beam is a prismatic beam with a bending stiffness `EI`.\n",
    "\n",
    "```{figure} ./sympy_mech_data/beam.svg\n",
    ":align: center\n",
    "```\n",
    "\n",
    "We can solve this beam by using the [Euler-Bernoulli's differential equation](beam_force_ode)."
   ]
  },
  {
   "cell_type": "markdown",
   "id": "f6f45c79",
   "metadata": {},
   "source": [
    "First, the SymPy library is imported and a function is called which will make sure the output looks nice:"
   ]
  },
  {
   "cell_type": "code",
   "execution_count": 2,
   "id": "8ce1e505",
   "metadata": {
    "scrolled": false,
    "tags": [
     "thebe-init"
    ]
   },
   "outputs": [],
   "source": [
    "import sympy as sym\n",
    "sym.init_printing()"
   ]
  },
  {
   "cell_type": "markdown",
   "id": "af308bb3",
   "metadata": {},
   "source": [
    "Now, we'll define our symbols. These includes all symbols (non-numerical values), so also including intergration constants. We do so with the `sym.symbols` function:"
   ]
  },
  {
   "cell_type": "code",
   "execution_count": 5,
   "id": "c4cb5789",
   "metadata": {
    "scrolled": false
   },
   "outputs": [],
   "source": [
    "x, q, F, EI = sym.symbols('x, q, F, EI')\n",
    "C1, C2, C3, C4, C5, C6, C7, C8, C9, C10, C11, C12 = sym.symbols('C1 C2 C3 C4 C5 C6 C7 C8 C9 C10 C11 C12')"
   ]
  },
  {
   "cell_type": "markdown",
   "id": "ef393a0c",
   "metadata": {},
   "source": [
    "The functions $q\\left(x\\right)$ for each of the segments can now be defined:"
   ]
  },
  {
   "cell_type": "code",
   "execution_count": 6,
   "id": "1370bfe1",
   "metadata": {},
   "outputs": [],
   "source": [
    "q_AC = q\n",
    "q_CD = 0\n",
    "q_DB = 0"
   ]
  },
  {
   "cell_type": "markdown",
   "id": "e56dd548",
   "metadata": {},
   "source": [
    "We can integrate using the `sym.integrate()` function:"
   ]
  },
  {
   "cell_type": "code",
   "execution_count": 10,
   "id": "d088bb55",
   "metadata": {},
   "outputs": [],
   "source": [
    "V_AC = sym.integrate(-q_AC,x)+C1\n",
    "M_AC = sym.integrate(V_AC,x)+C2\n",
    "kappa_AC = M_AC / EI\n",
    "phi_AC = sym.integrate(kappa_AC,x)+C3\n",
    "w_AC = sym.integrate(-phi_AC,x)+C4\n",
    "\n",
    "V_CD = sym.integrate(-q_CD,x)+C5\n",
    "M_CD = sym.integrate(V_CD,x)+C6\n",
    "kappa_CD = M_CD / EI\n",
    "phi_CD = sym.integrate(kappa_CD,x)+C7\n",
    "w_CD = sym.integrate(-phi_CD,x)+C8\n",
    "\n",
    "V_DB = sym.integrate(-q_DB,x)+C9\n",
    "M_DB = sym.integrate(V_DB,x)+C10\n",
    "kappa_DB = M_DB / EI\n",
    "phi_DB = sym.integrate(kappa_DB,x)+C11\n",
    "w_DB = sym.integrate(-phi_DB,x)+C12"
   ]
  },
  {
   "cell_type": "markdown",
   "id": "ba61b7b7",
   "metadata": {},
   "source": [
    "You can display the equations with the `display` function:"
   ]
  },
  {
   "cell_type": "code",
   "execution_count": 9,
   "id": "198bcfa6",
   "metadata": {},
   "outputs": [
    {
     "data": {
      "text/latex": [
       "$\\displaystyle - \\frac{C_{1} x^{3}}{6 EI} - \\frac{C_{2} x^{2}}{2 EI} - C_{3} x + C_{4} + \\frac{q x^{4}}{24 EI}$"
      ],
      "text/plain": [
       "-C1*x**3/(6*EI) - C2*x**2/(2*EI) - C3*x + C4 + q*x**4/(24*EI)"
      ]
     },
     "metadata": {},
     "output_type": "display_data"
    }
   ],
   "source": [
    "display(w_AC)"
   ]
  },
  {
   "cell_type": "markdown",
   "id": "3d10a7cd",
   "metadata": {},
   "source": [
    "The boundary conditions can now be specified using the `sym.Eq()` function which takes as an input the left- and righthandside of an equation. Furthermore the `.subs()` function fill in a value in your expression:"
   ]
  },
  {
   "cell_type": "code",
   "execution_count": 12,
   "id": "d071b47f",
   "metadata": {},
   "outputs": [
    {
     "data": {
      "text/latex": [
       "$\\displaystyle - \\frac{256 C_{5}}{3 EI} - \\frac{32 C_{6}}{EI} - 8 C_{7} + C_{8} = - \\frac{32 C_{10}}{EI} - 8 C_{11} + C_{12} - \\frac{256 C_{9}}{3 EI}$"
      ],
      "text/plain": [
       "Eq(-256*C5/(3*EI) - 32*C6/EI - 8*C7 + C8, -32*C10/EI - 8*C11 + C12 - 256*C9/(3*EI))"
      ]
     },
     "metadata": {},
     "output_type": "display_data"
    }
   ],
   "source": [
    "Eq1 = sym.Eq(w_AC.subs(x, 0), 0) \n",
    "Eq2 = sym.Eq(M_AC.subs(x, 0), 0)\n",
    "Eq3 = sym.Eq(w_AC.subs(x, 4), w_CD.subs(x, 4))\n",
    "Eq4 = sym.Eq(phi_AC.subs(x, 4), phi_CD.subs(x, 4))\n",
    "Eq5 = sym.Eq(M_AC.subs(x, 4), M_CD.subs(x, 4))\n",
    "Eq6 = sym.Eq(V_AC.subs(x, 4), V_CD.subs(x, 4))\n",
    "Eq7 = sym.Eq(w_CD.subs(x, 8), w_DB.subs(x, 8))\n",
    "Eq8 = sym.Eq(phi_CD.subs(x, 8), phi_DB.subs(x, 8))\n",
    "Eq9 = sym.Eq(V_CD.subs(x, 8), V_DB.subs(x, 8)+F)\n",
    "Eq10 = sym.Eq(M_CD.subs(x, 8), M_DB.subs(x, 8))\n",
    "Eq11 = sym.Eq(w_DB.subs(x, 12), 0)\n",
    "Eq12 = sym.Eq(M_DB.subs(x, 12), 0)\n",
    "\n",
    "display(Eq7)"
   ]
  },
  {
   "cell_type": "markdown",
   "id": "50e8e763",
   "metadata": {},
   "source": [
    "Now we use the function `sym.solve` to solve our system of equations for our integration constants:"
   ]
  },
  {
   "cell_type": "code",
   "execution_count": 13,
   "id": "69f6a2b6",
   "metadata": {},
   "outputs": [
    {
     "data": {
      "text/plain": [
       "{C1: F/3 + 10*q/3,\n",
       " C10: 8*F + 8*q,\n",
       " C11: (-352*F - 296*q)/(9*EI),\n",
       " C12: (-256*F - 32*q)/(3*EI),\n",
       " C2: 0,\n",
       " C3: (-64*F - 200*q)/(9*EI),\n",
       " C4: 0,\n",
       " C5: F/3 - 2*q/3,\n",
       " C6: 8*q,\n",
       " C7: (-64*F - 296*q)/(9*EI),\n",
       " C8: -32*q/(3*EI),\n",
       " C9: -2*F/3 - 2*q/3}"
      ]
     },
     "metadata": {},
     "output_type": "display_data"
    }
   ],
   "source": [
    "sol = sym.solve((Eq1,Eq2,Eq3,Eq4,Eq5,Eq6,Eq7,Eq8,Eq9,Eq10,Eq11,Eq12), (C1,C2,C3,C4,C5,C6,C7,C8,C9,C10,C11,C12))\n",
    "display(sol)"
   ]
  },
  {
   "cell_type": "markdown",
   "id": "b891a36d",
   "metadata": {},
   "source": [
    "We can use `.subs()` again to substitute this solution in our original function:"
   ]
  },
  {
   "cell_type": "code",
   "execution_count": 14,
   "id": "9470e4b9",
   "metadata": {},
   "outputs": [
    {
     "data": {
      "text/latex": [
       "$\\displaystyle \\frac{q x^{4}}{24 EI} - \\frac{x^{3} \\left(\\frac{F}{3} + \\frac{10 q}{3}\\right)}{6 EI} - \\frac{x \\left(- 64 F - 200 q\\right)}{9 EI}$"
      ],
      "text/plain": [
       "q*x**4/(24*EI) - x**3*(F/3 + 10*q/3)/(6*EI) - x*(-64*F - 200*q)/(9*EI)"
      ]
     },
     "metadata": {},
     "output_type": "display_data"
    }
   ],
   "source": [
    "display(w_AC.subs(sol))"
   ]
  },
  {
   "cell_type": "markdown",
   "id": "65a97151",
   "metadata": {},
   "source": [
    "Instead of symbolic values, you could have worked with numerical values too from the beginning. Nevertheless, we can substitute values with out final expression too, including a value for x. Use `.evalf()` to show the decimal form of your answer:"
   ]
  },
  {
   "cell_type": "code",
   "execution_count": 20,
   "id": "77d9d345",
   "metadata": {},
   "outputs": [
    {
     "data": {
      "text/latex": [
       "$\\displaystyle \\frac{73}{1500}$"
      ],
      "text/plain": [
       "73/1500"
      ]
     },
     "metadata": {},
     "output_type": "display_data"
    },
    {
     "data": {
      "text/latex": [
       "$\\displaystyle 0.0486666666666667$"
      ],
      "text/plain": [
       "0.0486666666666667"
      ]
     },
     "metadata": {},
     "output_type": "display_data"
    }
   ],
   "source": [
    "display(w_CD.subs(sol).subs(EI,20000).subs(q,10).subs(F,10).subs(x,6))\n",
    "display(w_CD.subs(sol).subs(EI,20000).subs(q,10).subs(F,10).subs(x,6).evalf())"
   ]
  },
  {
   "cell_type": "markdown",
   "id": "cad45bd5",
   "metadata": {},
   "source": [
    "## Exercises\n",
    "- Exercises in chapter 11.4 of the book Engineering Mechanics Volume 1 {cite:p}`Hartsuijker2006`, answers are available on [this website](https://icozct.tudelft.nl/TUD_CT/bookanswers/vol1/Chapter11/): 11.1 - 11.11"
   ]
  }
 ],
 "metadata": {
  "kernelspec": {
   "display_name": "Python 3 (ipykernel)",
   "language": "python",
   "name": "python3"
  },
  "language_info": {
   "codemirror_mode": {
    "name": "ipython",
    "version": 3
   },
   "file_extension": ".py",
   "mimetype": "text/x-python",
   "name": "python",
   "nbconvert_exporter": "python",
   "pygments_lexer": "ipython3",
   "version": "3.9.18"
  }
 },
 "nbformat": 4,
 "nbformat_minor": 5
}
